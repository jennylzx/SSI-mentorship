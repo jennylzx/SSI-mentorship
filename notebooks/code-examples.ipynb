{
 "cells": [
  {
   "attachments": {},
   "cell_type": "markdown",
   "metadata": {},
   "source": [
    "# Code examples\n",
    "\n",
    "This notebook can contain snippets of code as examples or demonstrations, working out how to do different bits of analysis or visualisation."
   ]
  },
  {
   "cell_type": "code",
   "execution_count": 2,
   "metadata": {},
   "outputs": [],
   "source": [
    "# pathlib is a standard library module for working with \n",
    "# \"paths\" - file and folder locations\n",
    "from pathlib import Path\n",
    "\n",
    "# requests is a library for making web requests - \n",
    "# downloading files or webpages, or posting queries\n",
    "import requests\n",
    "\n",
    "# set up variables\n",
    "seattle_weather_url = \"https://github.com/vega/vega/raw/main/docs/data/seattle-weather.csv\"\n",
    "download_location = Path(\"..\", \"data\", \"seattle-weather.csv\")\n",
    "\n",
    "# make request\n",
    "request = requests.get(seattle_weather_url)\n",
    "\n",
    "# save file\n",
    "with open(download_location, 'wb') as file_handle:\n",
    "    file_handle.write(request.content)"
   ]
  },
  {
   "cell_type": "code",
   "execution_count": null,
   "metadata": {},
   "outputs": [],
   "source": []
  }
 ],
 "metadata": {
  "kernelspec": {
   "display_name": "Python 3",
   "language": "python",
   "name": "python3"
  },
  "language_info": {
   "codemirror_mode": {
    "name": "ipython",
    "version": 3
   },
   "file_extension": ".py",
   "mimetype": "text/x-python",
   "name": "python",
   "nbconvert_exporter": "python",
   "pygments_lexer": "ipython3",
   "version": "3.11.3"
  },
  "orig_nbformat": 4
 },
 "nbformat": 4,
 "nbformat_minor": 2
}
